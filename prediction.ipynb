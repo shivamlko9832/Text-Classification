{
 "cells": [
  {
   "cell_type": "code",
   "execution_count": 33,
   "metadata": {},
   "outputs": [],
   "source": [
    "#Step 1: Import the necessary libraries and Load the Model\n",
    "import numpy as np\n",
    "import tensorflow as tf\n",
    "from tensorflow.keras.datasets import imdb\n",
    "from tensorflow.keras.preprocessing import sequence\n",
    "from tensorflow.keras.models import load_model\n"
   ]
  },
  {
   "cell_type": "code",
   "execution_count": 34,
   "metadata": {},
   "outputs": [],
   "source": [
    "#Load the IMDB dataset word index\n",
    "word_index = imdb.get_word_index()\n",
    "reverse_word_index = dict([(value, key) for (key, value) in word_index.items()])\n"
   ]
  },
  {
   "cell_type": "code",
   "execution_count": 35,
   "metadata": {},
   "outputs": [
    {
     "name": "stderr",
     "output_type": "stream",
     "text": [
      "WARNING:absl:Compiled the loaded model, but the compiled metrics have yet to be built. `model.compile_metrics` will be empty until you train or evaluate the model.\n"
     ]
    },
    {
     "data": {
      "text/html": [
       "<pre style=\"white-space:pre;overflow-x:auto;line-height:normal;font-family:Menlo,'DejaVu Sans Mono',consolas,'Courier New',monospace\"><span style=\"font-weight: bold\">Model: \"sequential_2\"</span>\n",
       "</pre>\n"
      ],
      "text/plain": [
       "\u001b[1mModel: \"sequential_2\"\u001b[0m\n"
      ]
     },
     "metadata": {},
     "output_type": "display_data"
    },
    {
     "data": {
      "text/html": [
       "<pre style=\"white-space:pre;overflow-x:auto;line-height:normal;font-family:Menlo,'DejaVu Sans Mono',consolas,'Courier New',monospace\">┏━━━━━━━━━━━━━━━━━━━━━━━━━━━━━━━━━┳━━━━━━━━━━━━━━━━━━━━━━━━┳━━━━━━━━━━━━━━━┓\n",
       "┃<span style=\"font-weight: bold\"> Layer (type)                    </span>┃<span style=\"font-weight: bold\"> Output Shape           </span>┃<span style=\"font-weight: bold\">       Param # </span>┃\n",
       "┡━━━━━━━━━━━━━━━━━━━━━━━━━━━━━━━━━╇━━━━━━━━━━━━━━━━━━━━━━━━╇━━━━━━━━━━━━━━━┩\n",
       "│ embedding_2 (<span style=\"color: #0087ff; text-decoration-color: #0087ff\">Embedding</span>)         │ (<span style=\"color: #00d7ff; text-decoration-color: #00d7ff\">None</span>, <span style=\"color: #00af00; text-decoration-color: #00af00\">500</span>, <span style=\"color: #00af00; text-decoration-color: #00af00\">128</span>)       │     <span style=\"color: #00af00; text-decoration-color: #00af00\">1,280,000</span> │\n",
       "├─────────────────────────────────┼────────────────────────┼───────────────┤\n",
       "│ simple_rnn_2 (<span style=\"color: #0087ff; text-decoration-color: #0087ff\">SimpleRNN</span>)        │ (<span style=\"color: #00d7ff; text-decoration-color: #00d7ff\">None</span>, <span style=\"color: #00af00; text-decoration-color: #00af00\">128</span>)            │        <span style=\"color: #00af00; text-decoration-color: #00af00\">32,896</span> │\n",
       "├─────────────────────────────────┼────────────────────────┼───────────────┤\n",
       "│ dense_2 (<span style=\"color: #0087ff; text-decoration-color: #0087ff\">Dense</span>)                 │ (<span style=\"color: #00d7ff; text-decoration-color: #00d7ff\">None</span>, <span style=\"color: #00af00; text-decoration-color: #00af00\">1</span>)              │           <span style=\"color: #00af00; text-decoration-color: #00af00\">129</span> │\n",
       "└─────────────────────────────────┴────────────────────────┴───────────────┘\n",
       "</pre>\n"
      ],
      "text/plain": [
       "┏━━━━━━━━━━━━━━━━━━━━━━━━━━━━━━━━━┳━━━━━━━━━━━━━━━━━━━━━━━━┳━━━━━━━━━━━━━━━┓\n",
       "┃\u001b[1m \u001b[0m\u001b[1mLayer (type)                   \u001b[0m\u001b[1m \u001b[0m┃\u001b[1m \u001b[0m\u001b[1mOutput Shape          \u001b[0m\u001b[1m \u001b[0m┃\u001b[1m \u001b[0m\u001b[1m      Param #\u001b[0m\u001b[1m \u001b[0m┃\n",
       "┡━━━━━━━━━━━━━━━━━━━━━━━━━━━━━━━━━╇━━━━━━━━━━━━━━━━━━━━━━━━╇━━━━━━━━━━━━━━━┩\n",
       "│ embedding_2 (\u001b[38;5;33mEmbedding\u001b[0m)         │ (\u001b[38;5;45mNone\u001b[0m, \u001b[38;5;34m500\u001b[0m, \u001b[38;5;34m128\u001b[0m)       │     \u001b[38;5;34m1,280,000\u001b[0m │\n",
       "├─────────────────────────────────┼────────────────────────┼───────────────┤\n",
       "│ simple_rnn_2 (\u001b[38;5;33mSimpleRNN\u001b[0m)        │ (\u001b[38;5;45mNone\u001b[0m, \u001b[38;5;34m128\u001b[0m)            │        \u001b[38;5;34m32,896\u001b[0m │\n",
       "├─────────────────────────────────┼────────────────────────┼───────────────┤\n",
       "│ dense_2 (\u001b[38;5;33mDense\u001b[0m)                 │ (\u001b[38;5;45mNone\u001b[0m, \u001b[38;5;34m1\u001b[0m)              │           \u001b[38;5;34m129\u001b[0m │\n",
       "└─────────────────────────────────┴────────────────────────┴───────────────┘\n"
      ]
     },
     "metadata": {},
     "output_type": "display_data"
    },
    {
     "data": {
      "text/html": [
       "<pre style=\"white-space:pre;overflow-x:auto;line-height:normal;font-family:Menlo,'DejaVu Sans Mono',consolas,'Courier New',monospace\"><span style=\"font-weight: bold\"> Total params: </span><span style=\"color: #00af00; text-decoration-color: #00af00\">1,313,027</span> (5.01 MB)\n",
       "</pre>\n"
      ],
      "text/plain": [
       "\u001b[1m Total params: \u001b[0m\u001b[38;5;34m1,313,027\u001b[0m (5.01 MB)\n"
      ]
     },
     "metadata": {},
     "output_type": "display_data"
    },
    {
     "data": {
      "text/html": [
       "<pre style=\"white-space:pre;overflow-x:auto;line-height:normal;font-family:Menlo,'DejaVu Sans Mono',consolas,'Courier New',monospace\"><span style=\"font-weight: bold\"> Trainable params: </span><span style=\"color: #00af00; text-decoration-color: #00af00\">1,313,025</span> (5.01 MB)\n",
       "</pre>\n"
      ],
      "text/plain": [
       "\u001b[1m Trainable params: \u001b[0m\u001b[38;5;34m1,313,025\u001b[0m (5.01 MB)\n"
      ]
     },
     "metadata": {},
     "output_type": "display_data"
    },
    {
     "data": {
      "text/html": [
       "<pre style=\"white-space:pre;overflow-x:auto;line-height:normal;font-family:Menlo,'DejaVu Sans Mono',consolas,'Courier New',monospace\"><span style=\"font-weight: bold\"> Non-trainable params: </span><span style=\"color: #00af00; text-decoration-color: #00af00\">0</span> (0.00 B)\n",
       "</pre>\n"
      ],
      "text/plain": [
       "\u001b[1m Non-trainable params: \u001b[0m\u001b[38;5;34m0\u001b[0m (0.00 B)\n"
      ]
     },
     "metadata": {},
     "output_type": "display_data"
    },
    {
     "data": {
      "text/html": [
       "<pre style=\"white-space:pre;overflow-x:auto;line-height:normal;font-family:Menlo,'DejaVu Sans Mono',consolas,'Courier New',monospace\"><span style=\"font-weight: bold\"> Optimizer params: </span><span style=\"color: #00af00; text-decoration-color: #00af00\">2</span> (12.00 B)\n",
       "</pre>\n"
      ],
      "text/plain": [
       "\u001b[1m Optimizer params: \u001b[0m\u001b[38;5;34m2\u001b[0m (12.00 B)\n"
      ]
     },
     "metadata": {},
     "output_type": "display_data"
    }
   ],
   "source": [
    "#Load the pre_trained model with ReLU activation function\n",
    "model = load_model('simple_rnn_imdb.h5')\n",
    "model.summary()"
   ]
  },
  {
   "cell_type": "code",
   "execution_count": 36,
   "metadata": {},
   "outputs": [
    {
     "data": {
      "text/plain": [
       "[array([[ 5.20326912e-01,  5.14507413e-01, -5.19772232e-01, ...,\n",
       "          1.10151321e-01,  4.53844607e-01,  3.25043827e-01],\n",
       "        [ 4.20247950e-02,  4.50057872e-02, -7.39853922e-03, ...,\n",
       "          7.03676865e-02, -4.40411852e-04,  3.18998517e-03],\n",
       "        [ 8.04068819e-02,  1.52337402e-01, -9.23241600e-02, ...,\n",
       "          1.10854268e-01, -4.09517176e-02,  1.53436083e-02],\n",
       "        ...,\n",
       "        [ 1.33433379e-02, -5.86914755e-02,  9.95756984e-02, ...,\n",
       "         -1.60667256e-01,  3.56477313e-02,  9.87827480e-02],\n",
       "        [-6.19658530e-02,  1.20374365e-02,  2.75169499e-02, ...,\n",
       "          4.25442383e-02, -8.03138944e-04, -4.95399907e-02],\n",
       "        [-1.08738735e-01, -1.66069895e-01,  7.16697797e-02, ...,\n",
       "         -3.47381942e-02, -7.59666264e-02,  8.02056193e-02]], dtype=float32),\n",
       " array([[-0.12898484, -0.17260675,  0.03976231, ...,  0.00209385,\n",
       "          0.01460237, -0.15392266],\n",
       "        [-0.14027208, -0.08894295,  0.03806506, ..., -0.13174808,\n",
       "          0.05885079, -0.13189936],\n",
       "        [-0.00642614,  0.16589728, -0.05227966, ..., -0.05891423,\n",
       "          0.15612668,  0.02274887],\n",
       "        ...,\n",
       "        [-0.03316341, -0.06342085,  0.06687275, ...,  0.00525603,\n",
       "         -0.04949347, -0.00042636],\n",
       "        [-0.08902571,  0.19324258,  0.03542626, ..., -0.12251344,\n",
       "          0.05691608,  0.16782561],\n",
       "        [ 0.00209256,  0.15438826,  0.01868295, ..., -0.07655594,\n",
       "         -0.02696917, -0.0355604 ]], dtype=float32),\n",
       " array([[ 0.06060729, -0.01184634,  0.01087546, ...,  0.00531876,\n",
       "         -0.10661338,  0.20827577],\n",
       "        [-0.05690309,  0.12961629, -0.00251305, ...,  0.03225701,\n",
       "          0.15043636,  0.03923187],\n",
       "        [ 0.09172988,  0.11624178,  0.10459437, ...,  0.21106887,\n",
       "          0.03299401,  0.07314243],\n",
       "        ...,\n",
       "        [ 0.00154597,  0.18648797, -0.19551364, ..., -0.03696057,\n",
       "         -0.00561305, -0.02274736],\n",
       "        [-0.23660502, -0.03014506,  0.10384154, ...,  0.01166136,\n",
       "         -0.17523791,  0.1426394 ],\n",
       "        [ 0.03748249, -0.02432384, -0.03030869, ..., -0.08476999,\n",
       "         -0.01646554,  0.05370461]], dtype=float32),\n",
       " array([-2.8496822e-02, -4.2853106e-02, -9.1433208e-03,  5.5894293e-02,\n",
       "         5.5463812e-03,  3.1720232e-02,  2.4105672e-02,  4.7446106e-02,\n",
       "        -2.3718193e-02, -1.0279725e-02, -3.1463099e-03,  2.4607139e-02,\n",
       "         1.0173886e-02, -3.1301916e-02,  1.1934873e-03, -3.8444497e-02,\n",
       "        -2.0244950e-02,  3.1397115e-02,  5.5771235e-02, -2.8290216e-02,\n",
       "         2.0238250e-03, -1.1199302e-02, -1.2423153e-02,  2.0988383e-03,\n",
       "        -1.5894592e-02, -2.7033830e-02, -6.2734984e-02, -6.6794597e-02,\n",
       "        -4.4494160e-03, -1.1863474e-02, -5.3445000e-02,  4.2215358e-02,\n",
       "        -8.1807422e-03,  4.7012180e-02, -2.5348902e-02, -1.0404978e-02,\n",
       "        -6.0453556e-02,  6.9443330e-02,  2.3386052e-02,  2.7900429e-02,\n",
       "        -8.8983648e-02, -3.3839058e-02,  5.4909270e-03, -4.8790123e-02,\n",
       "        -5.7061468e-03,  2.7358273e-02, -3.8495135e-02, -1.7463138e-02,\n",
       "        -1.4977641e-02, -3.3284884e-02, -5.3198982e-02, -7.1917363e-02,\n",
       "         1.8822387e-02, -1.4858105e-02,  1.1408237e-02,  1.7323066e-02,\n",
       "        -4.6932362e-02, -3.8645707e-02,  3.8572472e-02,  5.9364950e-03,\n",
       "        -5.5006608e-02, -3.4892228e-02, -1.7448368e-02,  5.3298298e-02,\n",
       "        -7.4999412e-03, -2.8414775e-02, -1.0894288e-02, -4.6589669e-02,\n",
       "        -1.2032984e-02, -2.5570253e-02,  5.3149154e-03,  1.1895774e-02,\n",
       "        -5.6432378e-03,  4.5661561e-02, -7.0251469e-03,  7.2369166e-02,\n",
       "         1.8572055e-04,  9.0541840e-03, -8.5871965e-05, -2.1886954e-02,\n",
       "         3.1571247e-02, -5.3273752e-02,  2.5092114e-02,  4.2522326e-02,\n",
       "         4.6654899e-02, -2.0634614e-02, -3.8100280e-02, -5.0839521e-02,\n",
       "        -3.7451781e-02,  2.2766853e-02, -3.4874402e-02, -3.6986224e-02,\n",
       "        -2.4886580e-02,  2.1353667e-03, -2.5352035e-02,  4.1560892e-02,\n",
       "         5.2787073e-02, -5.3691375e-03, -3.7703469e-02,  4.7921773e-02,\n",
       "         1.0166120e-02, -1.8179780e-03, -2.2016611e-02, -5.3794581e-02,\n",
       "        -2.9801788e-02, -5.5485044e-02, -9.1388430e-03,  5.6133926e-02,\n",
       "         7.1363397e-02, -2.3659680e-02, -4.0219240e-02, -2.1299677e-02,\n",
       "        -2.0541741e-02, -3.4713954e-02, -1.2875531e-02,  2.8303143e-02,\n",
       "        -2.6793553e-02, -6.4362705e-02, -5.3274874e-02,  4.5639798e-02,\n",
       "         1.3297801e-02, -3.0384263e-02, -3.0790728e-02, -4.3684583e-02,\n",
       "         3.9811246e-02,  4.2656297e-03, -3.7273016e-02, -4.4083595e-02],\n",
       "       dtype=float32),\n",
       " array([[-0.07981189],\n",
       "        [ 0.19508211],\n",
       "        [-0.20925331],\n",
       "        [ 0.08320209],\n",
       "        [ 0.26951495],\n",
       "        [-0.2760339 ],\n",
       "        [-0.7474431 ],\n",
       "        [ 0.03340345],\n",
       "        [ 0.11169676],\n",
       "        [-0.07261631],\n",
       "        [ 1.2958398 ],\n",
       "        [-0.13925336],\n",
       "        [ 0.13740334],\n",
       "        [-0.12080665],\n",
       "        [ 0.14066179],\n",
       "        [ 0.221576  ],\n",
       "        [ 0.1843827 ],\n",
       "        [ 0.11798464],\n",
       "        [ 0.06722949],\n",
       "        [ 0.07069295],\n",
       "        [ 0.22635522],\n",
       "        [ 0.16057482],\n",
       "        [ 0.1400159 ],\n",
       "        [-0.21639752],\n",
       "        [ 0.0982341 ],\n",
       "        [-0.10914123],\n",
       "        [ 0.00165207],\n",
       "        [-0.23961583],\n",
       "        [ 0.09530278],\n",
       "        [ 0.06380671],\n",
       "        [-0.11843987],\n",
       "        [ 0.05344127],\n",
       "        [-0.16949192],\n",
       "        [-0.06326854],\n",
       "        [ 0.19769943],\n",
       "        [ 0.21083826],\n",
       "        [ 0.17350654],\n",
       "        [-0.22741282],\n",
       "        [ 0.07131863],\n",
       "        [ 0.16301839],\n",
       "        [ 0.05097645],\n",
       "        [-0.05200965],\n",
       "        [ 0.00474278],\n",
       "        [ 0.20352106],\n",
       "        [ 0.20497763],\n",
       "        [-0.15353476],\n",
       "        [-0.18680462],\n",
       "        [-0.07558219],\n",
       "        [ 0.22495401],\n",
       "        [ 0.17599192],\n",
       "        [-0.27028278],\n",
       "        [ 0.11625904],\n",
       "        [-0.18792333],\n",
       "        [ 0.15808102],\n",
       "        [ 0.24318384],\n",
       "        [ 0.3817012 ],\n",
       "        [-0.0039417 ],\n",
       "        [-0.01966287],\n",
       "        [-0.16786294],\n",
       "        [ 0.12267572],\n",
       "        [ 0.13535224],\n",
       "        [-0.0434118 ],\n",
       "        [ 0.18058997],\n",
       "        [-0.13655052],\n",
       "        [-0.06838196],\n",
       "        [ 0.01755477],\n",
       "        [-0.10080129],\n",
       "        [ 0.1455098 ],\n",
       "        [ 0.19912688],\n",
       "        [ 0.23264013],\n",
       "        [ 0.2012279 ],\n",
       "        [ 0.16880576],\n",
       "        [-0.18182169],\n",
       "        [-0.1402633 ],\n",
       "        [-0.11239917],\n",
       "        [-0.19761078],\n",
       "        [ 0.0526152 ],\n",
       "        [ 0.1989424 ],\n",
       "        [-0.23004048],\n",
       "        [-0.03253795],\n",
       "        [ 0.03727536],\n",
       "        [ 0.02124884],\n",
       "        [ 0.30115482],\n",
       "        [ 0.19967869],\n",
       "        [-0.00668307],\n",
       "        [ 0.121664  ],\n",
       "        [ 0.22316651],\n",
       "        [-0.00954263],\n",
       "        [ 0.16030996],\n",
       "        [ 0.30508915],\n",
       "        [ 0.13704227],\n",
       "        [ 0.01384511],\n",
       "        [ 0.06615773],\n",
       "        [ 0.14623632],\n",
       "        [-0.15178075],\n",
       "        [-0.03017304],\n",
       "        [-0.25379917],\n",
       "        [-0.15328833],\n",
       "        [ 0.09172113],\n",
       "        [-0.08434821],\n",
       "        [ 0.13557495],\n",
       "        [ 0.03550925],\n",
       "        [ 0.17709264],\n",
       "        [ 0.20379958],\n",
       "        [ 0.10644498],\n",
       "        [ 0.11776169],\n",
       "        [-0.02703513],\n",
       "        [-0.11396124],\n",
       "        [ 0.15867963],\n",
       "        [-0.04372357],\n",
       "        [ 0.07640323],\n",
       "        [-0.12192267],\n",
       "        [-0.03537848],\n",
       "        [ 0.04135229],\n",
       "        [ 0.01066865],\n",
       "        [-0.01308528],\n",
       "        [ 0.07351021],\n",
       "        [ 0.16437024],\n",
       "        [ 0.127344  ],\n",
       "        [-0.1176267 ],\n",
       "        [-0.16186245],\n",
       "        [ 0.18760365],\n",
       "        [ 0.14034015],\n",
       "        [ 0.11663667],\n",
       "        [-0.03701092],\n",
       "        [ 0.21846838],\n",
       "        [ 0.12583509],\n",
       "        [ 0.15436684]], dtype=float32),\n",
       " array([1.057934], dtype=float32)]"
      ]
     },
     "execution_count": 36,
     "metadata": {},
     "output_type": "execute_result"
    }
   ],
   "source": [
    "model.get_weights()"
   ]
  },
  {
   "cell_type": "code",
   "execution_count": 37,
   "metadata": {},
   "outputs": [],
   "source": [
    "#Step 2: Helper functions to decode the reviews\n",
    "def decode_review(encoded_review):\n",
    "    return ' '.join([reverse_word_index.get(i-3,'?') for i in encoded_review])\n",
    "\n",
    "# Functions to preprocess user input\n",
    "def preprocess_text(text):\n",
    "    words=text.lower().split()\n",
    "    encoded_review = [word_index.get(word,3) for word in words]\n",
    "    padded_review = sequence.pad_sequences([encoded_review], maxlen=500)\n",
    "    return padded_review"
   ]
  },
  {
   "cell_type": "code",
   "execution_count": 38,
   "metadata": {},
   "outputs": [],
   "source": [
    "##Prediction function\n",
    "def predict_sentiment(review):\n",
    "    padded_review = preprocess_text(review)\n",
    "    pred = model.predict(padded_review)\n",
    "    sentiment = 'Positive' if pred[0][0] > 0.5 else 'Negative'\n",
    "    return sentiment, pred[0][0]"
   ]
  },
  {
   "cell_type": "code",
   "execution_count": 39,
   "metadata": {},
   "outputs": [
    {
     "name": "stdout",
     "output_type": "stream",
     "text": [
      "WARNING:tensorflow:5 out of the last 9 calls to <function TensorFlowTrainer.make_predict_function.<locals>.one_step_on_data_distributed at 0x0000015ACD9B5080> triggered tf.function retracing. Tracing is expensive and the excessive number of tracings could be due to (1) creating @tf.function repeatedly in a loop, (2) passing tensors with different shapes, (3) passing Python objects instead of tensors. For (1), please define your @tf.function outside of the loop. For (2), @tf.function has reduce_retracing=True option that can avoid unnecessary retracing. For (3), please refer to https://www.tensorflow.org/guide/function#controlling_retracing and https://www.tensorflow.org/api_docs/python/tf/function for  more details.\n"
     ]
    },
    {
     "name": "stderr",
     "output_type": "stream",
     "text": [
      "WARNING:tensorflow:5 out of the last 9 calls to <function TensorFlowTrainer.make_predict_function.<locals>.one_step_on_data_distributed at 0x0000015ACD9B5080> triggered tf.function retracing. Tracing is expensive and the excessive number of tracings could be due to (1) creating @tf.function repeatedly in a loop, (2) passing tensors with different shapes, (3) passing Python objects instead of tensors. For (1), please define your @tf.function outside of the loop. For (2), @tf.function has reduce_retracing=True option that can avoid unnecessary retracing. For (3), please refer to https://www.tensorflow.org/guide/function#controlling_retracing and https://www.tensorflow.org/api_docs/python/tf/function for  more details.\n"
     ]
    },
    {
     "name": "stdout",
     "output_type": "stream",
     "text": [
      "\u001b[1m1/1\u001b[0m \u001b[32m━━━━━━━━━━━━━━━━━━━━\u001b[0m\u001b[37m\u001b[0m \u001b[1m0s\u001b[0m 150ms/step\n",
      "Review: The movie was a great waste of my time\n",
      "Sentiment: Negative\n",
      "Prediction Score: 0.1675562560558319\n"
     ]
    }
   ],
   "source": [
    "# Step 4: User Input and Prediction\n",
    "# Example review for prediction\n",
    "example_review = \"The movie was a great waste of my time\"\n",
    "\n",
    "sentiment,score = predict_sentiment(example_review)\n",
    "print(f\"Review: {example_review}\")\n",
    "print(f\"Sentiment: {sentiment}\")\n",
    "print(f\"Prediction Score: {score}\")"
   ]
  },
  {
   "cell_type": "code",
   "execution_count": 40,
   "metadata": {},
   "outputs": [
    {
     "name": "stdout",
     "output_type": "stream",
     "text": [
      "\u001b[1m1/1\u001b[0m \u001b[32m━━━━━━━━━━━━━━━━━━━━\u001b[0m\u001b[37m\u001b[0m \u001b[1m0s\u001b[0m 77ms/step\n",
      "Review: This movie was fantastic! The acting was great and the plot was thrilling.\n",
      "Sentiment: Negative\n",
      "Prediction Score: 0.09768736362457275\n"
     ]
    }
   ],
   "source": [
    "example_review2 = \"This movie was fantastic! The acting was great and the plot was thrilling.\"\n",
    "sentiment,score = predict_sentiment(example_review2)\n",
    "print(f\"Review: {example_review2}\")\n",
    "print(f\"Sentiment: {sentiment}\")\n",
    "print(f\"Prediction Score: {score}\")"
   ]
  },
  {
   "cell_type": "code",
   "execution_count": null,
   "metadata": {},
   "outputs": [],
   "source": []
  }
 ],
 "metadata": {
  "kernelspec": {
   "display_name": "venv",
   "language": "python",
   "name": "python3"
  },
  "language_info": {
   "codemirror_mode": {
    "name": "ipython",
    "version": 3
   },
   "file_extension": ".py",
   "mimetype": "text/x-python",
   "name": "python",
   "nbconvert_exporter": "python",
   "pygments_lexer": "ipython3",
   "version": "3.11.0"
  }
 },
 "nbformat": 4,
 "nbformat_minor": 2
}
