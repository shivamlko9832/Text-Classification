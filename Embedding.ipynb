{
 "cells": [
  {
   "cell_type": "code",
   "execution_count": 28,
   "metadata": {},
   "outputs": [],
   "source": [
    "from tensorflow.keras.preprocessing.text import one_hot"
   ]
  },
  {
   "cell_type": "code",
   "execution_count": 29,
   "metadata": {},
   "outputs": [],
   "source": [
    "##Sentences\n",
    "sent = ['the glass of milk',\n",
    "        'the glass of juice',\n",
    "        'the cup of tea',\n",
    "        'I am a good boy',\n",
    "        'I am a good developer',\n",
    "        'understand the meaning of words',\n",
    "        'your videos are good',]"
   ]
  },
  {
   "cell_type": "code",
   "execution_count": 30,
   "metadata": {},
   "outputs": [],
   "source": [
    "##Define the vocabulary size\n",
    "voc_size = 10000"
   ]
  },
  {
   "cell_type": "code",
   "execution_count": 31,
   "metadata": {},
   "outputs": [
    {
     "data": {
      "text/plain": [
       "[[8764, 7824, 2025, 4846],\n",
       " [8764, 7824, 2025, 583],\n",
       " [8764, 5086, 2025, 237],\n",
       " [5943, 475, 2944, 2680, 2870],\n",
       " [5943, 475, 2944, 2680, 3991],\n",
       " [6985, 8764, 4641, 2025, 9491],\n",
       " [1014, 8471, 5224, 2680]]"
      ]
     },
     "execution_count": 31,
     "metadata": {},
     "output_type": "execute_result"
    }
   ],
   "source": [
    "##One Hot Representation\n",
    "one_hot_repr=[one_hot(words,voc_size) for words in sent]\n",
    "one_hot_repr\n"
   ]
  },
  {
   "cell_type": "code",
   "execution_count": 32,
   "metadata": {},
   "outputs": [],
   "source": [
    "## Word Embedding Representation\n",
    "from tensorflow.keras.layers import Embedding\n",
    "from tensorflow.keras.utils import pad_sequences\n",
    "from tensorflow.keras.models import Sequential"
   ]
  },
  {
   "cell_type": "code",
   "execution_count": 33,
   "metadata": {},
   "outputs": [],
   "source": [
    "import numpy as np"
   ]
  },
  {
   "cell_type": "code",
   "execution_count": 34,
   "metadata": {},
   "outputs": [
    {
     "name": "stdout",
     "output_type": "stream",
     "text": [
      "[[   0    0    0    0 8764 7824 2025 4846]\n",
      " [   0    0    0    0 8764 7824 2025  583]\n",
      " [   0    0    0    0 8764 5086 2025  237]\n",
      " [   0    0    0 5943  475 2944 2680 2870]\n",
      " [   0    0    0 5943  475 2944 2680 3991]\n",
      " [   0    0    0 6985 8764 4641 2025 9491]\n",
      " [   0    0    0    0 1014 8471 5224 2680]]\n"
     ]
    }
   ],
   "source": [
    "sent_length = 8\n",
    "embedded_docs = pad_sequences(one_hot_repr,padding='pre',maxlen=sent_length)\n",
    "print(embedded_docs)"
   ]
  },
  {
   "cell_type": "code",
   "execution_count": 35,
   "metadata": {},
   "outputs": [],
   "source": [
    "##Feature Representation\n",
    "dim = 10\n"
   ]
  },
  {
   "cell_type": "code",
   "execution_count": 36,
   "metadata": {},
   "outputs": [],
   "source": [
    "model = Sequential()\n",
    "model.add(Embedding(voc_size,dim,input_length=sent_length))\n",
    "model.compile('adam','mse')"
   ]
  },
  {
   "cell_type": "code",
   "execution_count": 37,
   "metadata": {},
   "outputs": [
    {
     "data": {
      "text/html": [
       "<pre style=\"white-space:pre;overflow-x:auto;line-height:normal;font-family:Menlo,'DejaVu Sans Mono',consolas,'Courier New',monospace\"><span style=\"font-weight: bold\">Model: \"sequential_4\"</span>\n",
       "</pre>\n"
      ],
      "text/plain": [
       "\u001b[1mModel: \"sequential_4\"\u001b[0m\n"
      ]
     },
     "metadata": {},
     "output_type": "display_data"
    },
    {
     "data": {
      "text/html": [
       "<pre style=\"white-space:pre;overflow-x:auto;line-height:normal;font-family:Menlo,'DejaVu Sans Mono',consolas,'Courier New',monospace\">┏━━━━━━━━━━━━━━━━━━━━━━━━━━━━━━━━━┳━━━━━━━━━━━━━━━━━━━━━━━━┳━━━━━━━━━━━━━━━┓\n",
       "┃<span style=\"font-weight: bold\"> Layer (type)                    </span>┃<span style=\"font-weight: bold\"> Output Shape           </span>┃<span style=\"font-weight: bold\">       Param # </span>┃\n",
       "┡━━━━━━━━━━━━━━━━━━━━━━━━━━━━━━━━━╇━━━━━━━━━━━━━━━━━━━━━━━━╇━━━━━━━━━━━━━━━┩\n",
       "│ embedding_4 (<span style=\"color: #0087ff; text-decoration-color: #0087ff\">Embedding</span>)         │ (<span style=\"color: #00d7ff; text-decoration-color: #00d7ff\">None</span>, <span style=\"color: #00af00; text-decoration-color: #00af00\">8</span>, <span style=\"color: #00af00; text-decoration-color: #00af00\">10</span>)          │       <span style=\"color: #00af00; text-decoration-color: #00af00\">100,000</span> │\n",
       "└─────────────────────────────────┴────────────────────────┴───────────────┘\n",
       "</pre>\n"
      ],
      "text/plain": [
       "┏━━━━━━━━━━━━━━━━━━━━━━━━━━━━━━━━━┳━━━━━━━━━━━━━━━━━━━━━━━━┳━━━━━━━━━━━━━━━┓\n",
       "┃\u001b[1m \u001b[0m\u001b[1mLayer (type)                   \u001b[0m\u001b[1m \u001b[0m┃\u001b[1m \u001b[0m\u001b[1mOutput Shape          \u001b[0m\u001b[1m \u001b[0m┃\u001b[1m \u001b[0m\u001b[1m      Param #\u001b[0m\u001b[1m \u001b[0m┃\n",
       "┡━━━━━━━━━━━━━━━━━━━━━━━━━━━━━━━━━╇━━━━━━━━━━━━━━━━━━━━━━━━╇━━━━━━━━━━━━━━━┩\n",
       "│ embedding_4 (\u001b[38;5;33mEmbedding\u001b[0m)         │ (\u001b[38;5;45mNone\u001b[0m, \u001b[38;5;34m8\u001b[0m, \u001b[38;5;34m10\u001b[0m)          │       \u001b[38;5;34m100,000\u001b[0m │\n",
       "└─────────────────────────────────┴────────────────────────┴───────────────┘\n"
      ]
     },
     "metadata": {},
     "output_type": "display_data"
    },
    {
     "data": {
      "text/html": [
       "<pre style=\"white-space:pre;overflow-x:auto;line-height:normal;font-family:Menlo,'DejaVu Sans Mono',consolas,'Courier New',monospace\"><span style=\"font-weight: bold\"> Total params: </span><span style=\"color: #00af00; text-decoration-color: #00af00\">100,000</span> (390.62 KB)\n",
       "</pre>\n"
      ],
      "text/plain": [
       "\u001b[1m Total params: \u001b[0m\u001b[38;5;34m100,000\u001b[0m (390.62 KB)\n"
      ]
     },
     "metadata": {},
     "output_type": "display_data"
    },
    {
     "data": {
      "text/html": [
       "<pre style=\"white-space:pre;overflow-x:auto;line-height:normal;font-family:Menlo,'DejaVu Sans Mono',consolas,'Courier New',monospace\"><span style=\"font-weight: bold\"> Trainable params: </span><span style=\"color: #00af00; text-decoration-color: #00af00\">100,000</span> (390.62 KB)\n",
       "</pre>\n"
      ],
      "text/plain": [
       "\u001b[1m Trainable params: \u001b[0m\u001b[38;5;34m100,000\u001b[0m (390.62 KB)\n"
      ]
     },
     "metadata": {},
     "output_type": "display_data"
    },
    {
     "data": {
      "text/html": [
       "<pre style=\"white-space:pre;overflow-x:auto;line-height:normal;font-family:Menlo,'DejaVu Sans Mono',consolas,'Courier New',monospace\"><span style=\"font-weight: bold\"> Non-trainable params: </span><span style=\"color: #00af00; text-decoration-color: #00af00\">0</span> (0.00 B)\n",
       "</pre>\n"
      ],
      "text/plain": [
       "\u001b[1m Non-trainable params: \u001b[0m\u001b[38;5;34m0\u001b[0m (0.00 B)\n"
      ]
     },
     "metadata": {},
     "output_type": "display_data"
    }
   ],
   "source": [
    "model.build(input_shape=(None, sent_length))\n",
    "model.summary()\n"
   ]
  },
  {
   "cell_type": "code",
   "execution_count": 26,
   "metadata": {},
   "outputs": [
    {
     "name": "stdout",
     "output_type": "stream",
     "text": [
      "\u001b[1m1/1\u001b[0m \u001b[32m━━━━━━━━━━━━━━━━━━━━\u001b[0m\u001b[37m\u001b[0m \u001b[1m0s\u001b[0m 146ms/step\n"
     ]
    },
    {
     "data": {
      "text/html": [
       "<pre style=\"white-space:pre;overflow-x:auto;line-height:normal;font-family:Menlo,'DejaVu Sans Mono',consolas,'Courier New',monospace\"><span style=\"font-weight: bold\">Model: \"sequential_3\"</span>\n",
       "</pre>\n"
      ],
      "text/plain": [
       "\u001b[1mModel: \"sequential_3\"\u001b[0m\n"
      ]
     },
     "metadata": {},
     "output_type": "display_data"
    },
    {
     "data": {
      "text/html": [
       "<pre style=\"white-space:pre;overflow-x:auto;line-height:normal;font-family:Menlo,'DejaVu Sans Mono',consolas,'Courier New',monospace\">┏━━━━━━━━━━━━━━━━━━━━━━━━━━━━━━━━━┳━━━━━━━━━━━━━━━━━━━━━━━━┳━━━━━━━━━━━━━━━┓\n",
       "┃<span style=\"font-weight: bold\"> Layer (type)                    </span>┃<span style=\"font-weight: bold\"> Output Shape           </span>┃<span style=\"font-weight: bold\">       Param # </span>┃\n",
       "┡━━━━━━━━━━━━━━━━━━━━━━━━━━━━━━━━━╇━━━━━━━━━━━━━━━━━━━━━━━━╇━━━━━━━━━━━━━━━┩\n",
       "│ embedding_3 (<span style=\"color: #0087ff; text-decoration-color: #0087ff\">Embedding</span>)         │ (<span style=\"color: #00af00; text-decoration-color: #00af00\">1</span>, <span style=\"color: #00af00; text-decoration-color: #00af00\">8</span>, <span style=\"color: #00af00; text-decoration-color: #00af00\">10</span>)             │       <span style=\"color: #00af00; text-decoration-color: #00af00\">100,000</span> │\n",
       "└─────────────────────────────────┴────────────────────────┴───────────────┘\n",
       "</pre>\n"
      ],
      "text/plain": [
       "┏━━━━━━━━━━━━━━━━━━━━━━━━━━━━━━━━━┳━━━━━━━━━━━━━━━━━━━━━━━━┳━━━━━━━━━━━━━━━┓\n",
       "┃\u001b[1m \u001b[0m\u001b[1mLayer (type)                   \u001b[0m\u001b[1m \u001b[0m┃\u001b[1m \u001b[0m\u001b[1mOutput Shape          \u001b[0m\u001b[1m \u001b[0m┃\u001b[1m \u001b[0m\u001b[1m      Param #\u001b[0m\u001b[1m \u001b[0m┃\n",
       "┡━━━━━━━━━━━━━━━━━━━━━━━━━━━━━━━━━╇━━━━━━━━━━━━━━━━━━━━━━━━╇━━━━━━━━━━━━━━━┩\n",
       "│ embedding_3 (\u001b[38;5;33mEmbedding\u001b[0m)         │ (\u001b[38;5;34m1\u001b[0m, \u001b[38;5;34m8\u001b[0m, \u001b[38;5;34m10\u001b[0m)             │       \u001b[38;5;34m100,000\u001b[0m │\n",
       "└─────────────────────────────────┴────────────────────────┴───────────────┘\n"
      ]
     },
     "metadata": {},
     "output_type": "display_data"
    },
    {
     "data": {
      "text/html": [
       "<pre style=\"white-space:pre;overflow-x:auto;line-height:normal;font-family:Menlo,'DejaVu Sans Mono',consolas,'Courier New',monospace\"><span style=\"font-weight: bold\"> Total params: </span><span style=\"color: #00af00; text-decoration-color: #00af00\">100,000</span> (390.62 KB)\n",
       "</pre>\n"
      ],
      "text/plain": [
       "\u001b[1m Total params: \u001b[0m\u001b[38;5;34m100,000\u001b[0m (390.62 KB)\n"
      ]
     },
     "metadata": {},
     "output_type": "display_data"
    },
    {
     "data": {
      "text/html": [
       "<pre style=\"white-space:pre;overflow-x:auto;line-height:normal;font-family:Menlo,'DejaVu Sans Mono',consolas,'Courier New',monospace\"><span style=\"font-weight: bold\"> Trainable params: </span><span style=\"color: #00af00; text-decoration-color: #00af00\">100,000</span> (390.62 KB)\n",
       "</pre>\n"
      ],
      "text/plain": [
       "\u001b[1m Trainable params: \u001b[0m\u001b[38;5;34m100,000\u001b[0m (390.62 KB)\n"
      ]
     },
     "metadata": {},
     "output_type": "display_data"
    },
    {
     "data": {
      "text/html": [
       "<pre style=\"white-space:pre;overflow-x:auto;line-height:normal;font-family:Menlo,'DejaVu Sans Mono',consolas,'Courier New',monospace\"><span style=\"font-weight: bold\"> Non-trainable params: </span><span style=\"color: #00af00; text-decoration-color: #00af00\">0</span> (0.00 B)\n",
       "</pre>\n"
      ],
      "text/plain": [
       "\u001b[1m Non-trainable params: \u001b[0m\u001b[38;5;34m0\u001b[0m (0.00 B)\n"
      ]
     },
     "metadata": {},
     "output_type": "display_data"
    }
   ],
   "source": [
    "# Create dummy input data (batch size of 1)\n",
    "import numpy as np\n",
    "sample_input = np.array(embedded_docs[:1])  # Use part of your padded data as input\n",
    "\n",
    "# Run the model on the sample input\n",
    "model.predict(sample_input)\n",
    "\n",
    "# Now check the summary again\n",
    "model.summary()\n"
   ]
  },
  {
   "cell_type": "code",
   "execution_count": 38,
   "metadata": {},
   "outputs": [
    {
     "data": {
      "text/html": [
       "<pre style=\"white-space:pre;overflow-x:auto;line-height:normal;font-family:Menlo,'DejaVu Sans Mono',consolas,'Courier New',monospace\"><span style=\"font-weight: bold\">Model: \"sequential_4\"</span>\n",
       "</pre>\n"
      ],
      "text/plain": [
       "\u001b[1mModel: \"sequential_4\"\u001b[0m\n"
      ]
     },
     "metadata": {},
     "output_type": "display_data"
    },
    {
     "data": {
      "text/html": [
       "<pre style=\"white-space:pre;overflow-x:auto;line-height:normal;font-family:Menlo,'DejaVu Sans Mono',consolas,'Courier New',monospace\">┏━━━━━━━━━━━━━━━━━━━━━━━━━━━━━━━━━┳━━━━━━━━━━━━━━━━━━━━━━━━┳━━━━━━━━━━━━━━━┓\n",
       "┃<span style=\"font-weight: bold\"> Layer (type)                    </span>┃<span style=\"font-weight: bold\"> Output Shape           </span>┃<span style=\"font-weight: bold\">       Param # </span>┃\n",
       "┡━━━━━━━━━━━━━━━━━━━━━━━━━━━━━━━━━╇━━━━━━━━━━━━━━━━━━━━━━━━╇━━━━━━━━━━━━━━━┩\n",
       "│ embedding_4 (<span style=\"color: #0087ff; text-decoration-color: #0087ff\">Embedding</span>)         │ (<span style=\"color: #00d7ff; text-decoration-color: #00d7ff\">None</span>, <span style=\"color: #00af00; text-decoration-color: #00af00\">8</span>, <span style=\"color: #00af00; text-decoration-color: #00af00\">10</span>)          │       <span style=\"color: #00af00; text-decoration-color: #00af00\">100,000</span> │\n",
       "└─────────────────────────────────┴────────────────────────┴───────────────┘\n",
       "</pre>\n"
      ],
      "text/plain": [
       "┏━━━━━━━━━━━━━━━━━━━━━━━━━━━━━━━━━┳━━━━━━━━━━━━━━━━━━━━━━━━┳━━━━━━━━━━━━━━━┓\n",
       "┃\u001b[1m \u001b[0m\u001b[1mLayer (type)                   \u001b[0m\u001b[1m \u001b[0m┃\u001b[1m \u001b[0m\u001b[1mOutput Shape          \u001b[0m\u001b[1m \u001b[0m┃\u001b[1m \u001b[0m\u001b[1m      Param #\u001b[0m\u001b[1m \u001b[0m┃\n",
       "┡━━━━━━━━━━━━━━━━━━━━━━━━━━━━━━━━━╇━━━━━━━━━━━━━━━━━━━━━━━━╇━━━━━━━━━━━━━━━┩\n",
       "│ embedding_4 (\u001b[38;5;33mEmbedding\u001b[0m)         │ (\u001b[38;5;45mNone\u001b[0m, \u001b[38;5;34m8\u001b[0m, \u001b[38;5;34m10\u001b[0m)          │       \u001b[38;5;34m100,000\u001b[0m │\n",
       "└─────────────────────────────────┴────────────────────────┴───────────────┘\n"
      ]
     },
     "metadata": {},
     "output_type": "display_data"
    },
    {
     "data": {
      "text/html": [
       "<pre style=\"white-space:pre;overflow-x:auto;line-height:normal;font-family:Menlo,'DejaVu Sans Mono',consolas,'Courier New',monospace\"><span style=\"font-weight: bold\"> Total params: </span><span style=\"color: #00af00; text-decoration-color: #00af00\">100,000</span> (390.62 KB)\n",
       "</pre>\n"
      ],
      "text/plain": [
       "\u001b[1m Total params: \u001b[0m\u001b[38;5;34m100,000\u001b[0m (390.62 KB)\n"
      ]
     },
     "metadata": {},
     "output_type": "display_data"
    },
    {
     "data": {
      "text/html": [
       "<pre style=\"white-space:pre;overflow-x:auto;line-height:normal;font-family:Menlo,'DejaVu Sans Mono',consolas,'Courier New',monospace\"><span style=\"font-weight: bold\"> Trainable params: </span><span style=\"color: #00af00; text-decoration-color: #00af00\">100,000</span> (390.62 KB)\n",
       "</pre>\n"
      ],
      "text/plain": [
       "\u001b[1m Trainable params: \u001b[0m\u001b[38;5;34m100,000\u001b[0m (390.62 KB)\n"
      ]
     },
     "metadata": {},
     "output_type": "display_data"
    },
    {
     "data": {
      "text/html": [
       "<pre style=\"white-space:pre;overflow-x:auto;line-height:normal;font-family:Menlo,'DejaVu Sans Mono',consolas,'Courier New',monospace\"><span style=\"font-weight: bold\"> Non-trainable params: </span><span style=\"color: #00af00; text-decoration-color: #00af00\">0</span> (0.00 B)\n",
       "</pre>\n"
      ],
      "text/plain": [
       "\u001b[1m Non-trainable params: \u001b[0m\u001b[38;5;34m0\u001b[0m (0.00 B)\n"
      ]
     },
     "metadata": {},
     "output_type": "display_data"
    }
   ],
   "source": [
    "model.summary()\n"
   ]
  },
  {
   "cell_type": "code",
   "execution_count": 39,
   "metadata": {},
   "outputs": [
    {
     "name": "stdout",
     "output_type": "stream",
     "text": [
      "\u001b[1m1/1\u001b[0m \u001b[32m━━━━━━━━━━━━━━━━━━━━\u001b[0m\u001b[37m\u001b[0m \u001b[1m0s\u001b[0m 52ms/step\n"
     ]
    },
    {
     "data": {
      "text/plain": [
       "array([[[ 0.0470002 , -0.00935582,  0.04299415, -0.0082633 ,\n",
       "         -0.01664783, -0.004615  ,  0.00901164,  0.04972783,\n",
       "          0.0413538 ,  0.00335056],\n",
       "        [ 0.0470002 , -0.00935582,  0.04299415, -0.0082633 ,\n",
       "         -0.01664783, -0.004615  ,  0.00901164,  0.04972783,\n",
       "          0.0413538 ,  0.00335056],\n",
       "        [ 0.0470002 , -0.00935582,  0.04299415, -0.0082633 ,\n",
       "         -0.01664783, -0.004615  ,  0.00901164,  0.04972783,\n",
       "          0.0413538 ,  0.00335056],\n",
       "        [ 0.0470002 , -0.00935582,  0.04299415, -0.0082633 ,\n",
       "         -0.01664783, -0.004615  ,  0.00901164,  0.04972783,\n",
       "          0.0413538 ,  0.00335056],\n",
       "        [ 0.03111405, -0.01793978, -0.02621311,  0.02322394,\n",
       "         -0.04406983,  0.03307744, -0.01206652,  0.04066927,\n",
       "          0.04265973, -0.00466778],\n",
       "        [-0.03461339, -0.03203009,  0.00548317, -0.01339629,\n",
       "         -0.0315574 ,  0.04609379, -0.02907416, -0.04225062,\n",
       "         -0.03866761,  0.0295676 ],\n",
       "        [ 0.03306163, -0.04519486,  0.02354546, -0.01846832,\n",
       "         -0.04786303,  0.005055  , -0.03775669, -0.00702266,\n",
       "         -0.03195721, -0.02127304],\n",
       "        [-0.03344704, -0.02016467,  0.02294412,  0.0253267 ,\n",
       "         -0.01764899, -0.02576756, -0.04422247,  0.03668405,\n",
       "          0.02797867,  0.01875201]],\n",
       "\n",
       "       [[ 0.0470002 , -0.00935582,  0.04299415, -0.0082633 ,\n",
       "         -0.01664783, -0.004615  ,  0.00901164,  0.04972783,\n",
       "          0.0413538 ,  0.00335056],\n",
       "        [ 0.0470002 , -0.00935582,  0.04299415, -0.0082633 ,\n",
       "         -0.01664783, -0.004615  ,  0.00901164,  0.04972783,\n",
       "          0.0413538 ,  0.00335056],\n",
       "        [ 0.0470002 , -0.00935582,  0.04299415, -0.0082633 ,\n",
       "         -0.01664783, -0.004615  ,  0.00901164,  0.04972783,\n",
       "          0.0413538 ,  0.00335056],\n",
       "        [ 0.0470002 , -0.00935582,  0.04299415, -0.0082633 ,\n",
       "         -0.01664783, -0.004615  ,  0.00901164,  0.04972783,\n",
       "          0.0413538 ,  0.00335056],\n",
       "        [ 0.03111405, -0.01793978, -0.02621311,  0.02322394,\n",
       "         -0.04406983,  0.03307744, -0.01206652,  0.04066927,\n",
       "          0.04265973, -0.00466778],\n",
       "        [-0.03461339, -0.03203009,  0.00548317, -0.01339629,\n",
       "         -0.0315574 ,  0.04609379, -0.02907416, -0.04225062,\n",
       "         -0.03866761,  0.0295676 ],\n",
       "        [ 0.03306163, -0.04519486,  0.02354546, -0.01846832,\n",
       "         -0.04786303,  0.005055  , -0.03775669, -0.00702266,\n",
       "         -0.03195721, -0.02127304],\n",
       "        [ 0.02626503,  0.00876285, -0.01302331,  0.0086036 ,\n",
       "          0.01347357,  0.01041522, -0.03015488,  0.03929262,\n",
       "         -0.0363307 , -0.04729692]],\n",
       "\n",
       "       [[ 0.0470002 , -0.00935582,  0.04299415, -0.0082633 ,\n",
       "         -0.01664783, -0.004615  ,  0.00901164,  0.04972783,\n",
       "          0.0413538 ,  0.00335056],\n",
       "        [ 0.0470002 , -0.00935582,  0.04299415, -0.0082633 ,\n",
       "         -0.01664783, -0.004615  ,  0.00901164,  0.04972783,\n",
       "          0.0413538 ,  0.00335056],\n",
       "        [ 0.0470002 , -0.00935582,  0.04299415, -0.0082633 ,\n",
       "         -0.01664783, -0.004615  ,  0.00901164,  0.04972783,\n",
       "          0.0413538 ,  0.00335056],\n",
       "        [ 0.0470002 , -0.00935582,  0.04299415, -0.0082633 ,\n",
       "         -0.01664783, -0.004615  ,  0.00901164,  0.04972783,\n",
       "          0.0413538 ,  0.00335056],\n",
       "        [ 0.03111405, -0.01793978, -0.02621311,  0.02322394,\n",
       "         -0.04406983,  0.03307744, -0.01206652,  0.04066927,\n",
       "          0.04265973, -0.00466778],\n",
       "        [-0.0137958 , -0.04713773,  0.01092986, -0.01035164,\n",
       "         -0.0211947 , -0.01572482,  0.03507949,  0.00584184,\n",
       "         -0.00568442, -0.00700217],\n",
       "        [ 0.03306163, -0.04519486,  0.02354546, -0.01846832,\n",
       "         -0.04786303,  0.005055  , -0.03775669, -0.00702266,\n",
       "         -0.03195721, -0.02127304],\n",
       "        [-0.04316344, -0.02601506, -0.03328977, -0.03571621,\n",
       "          0.01957128, -0.023949  ,  0.00497348, -0.02340688,\n",
       "          0.03896261, -0.03789657]],\n",
       "\n",
       "       [[ 0.0470002 , -0.00935582,  0.04299415, -0.0082633 ,\n",
       "         -0.01664783, -0.004615  ,  0.00901164,  0.04972783,\n",
       "          0.0413538 ,  0.00335056],\n",
       "        [ 0.0470002 , -0.00935582,  0.04299415, -0.0082633 ,\n",
       "         -0.01664783, -0.004615  ,  0.00901164,  0.04972783,\n",
       "          0.0413538 ,  0.00335056],\n",
       "        [ 0.0470002 , -0.00935582,  0.04299415, -0.0082633 ,\n",
       "         -0.01664783, -0.004615  ,  0.00901164,  0.04972783,\n",
       "          0.0413538 ,  0.00335056],\n",
       "        [ 0.0179125 ,  0.00851014, -0.03923969, -0.01460828,\n",
       "          0.01501046,  0.04223986, -0.04892169,  0.04160166,\n",
       "         -0.00091541, -0.03340701],\n",
       "        [-0.01255669,  0.02592171,  0.00027782,  0.00180513,\n",
       "         -0.01895263,  0.00758977, -0.02458581,  0.01024323,\n",
       "          0.04081048, -0.04202839],\n",
       "        [ 0.02404338,  0.03950429, -0.03968483, -0.01035715,\n",
       "         -0.03556937,  0.00543085,  0.0428267 ,  0.01834389,\n",
       "         -0.02713615, -0.04287561],\n",
       "        [ 0.02048469, -0.03559362, -0.02164832,  0.03565266,\n",
       "         -0.02358456, -0.0225397 ,  0.04009699, -0.04201902,\n",
       "         -0.04296181, -0.04046725],\n",
       "        [-0.04010501,  0.027865  ,  0.02858306,  0.01948485,\n",
       "          0.00627252,  0.03460201, -0.01647877,  0.0131873 ,\n",
       "          0.03564662, -0.04728683]],\n",
       "\n",
       "       [[ 0.0470002 , -0.00935582,  0.04299415, -0.0082633 ,\n",
       "         -0.01664783, -0.004615  ,  0.00901164,  0.04972783,\n",
       "          0.0413538 ,  0.00335056],\n",
       "        [ 0.0470002 , -0.00935582,  0.04299415, -0.0082633 ,\n",
       "         -0.01664783, -0.004615  ,  0.00901164,  0.04972783,\n",
       "          0.0413538 ,  0.00335056],\n",
       "        [ 0.0470002 , -0.00935582,  0.04299415, -0.0082633 ,\n",
       "         -0.01664783, -0.004615  ,  0.00901164,  0.04972783,\n",
       "          0.0413538 ,  0.00335056],\n",
       "        [ 0.0179125 ,  0.00851014, -0.03923969, -0.01460828,\n",
       "          0.01501046,  0.04223986, -0.04892169,  0.04160166,\n",
       "         -0.00091541, -0.03340701],\n",
       "        [-0.01255669,  0.02592171,  0.00027782,  0.00180513,\n",
       "         -0.01895263,  0.00758977, -0.02458581,  0.01024323,\n",
       "          0.04081048, -0.04202839],\n",
       "        [ 0.02404338,  0.03950429, -0.03968483, -0.01035715,\n",
       "         -0.03556937,  0.00543085,  0.0428267 ,  0.01834389,\n",
       "         -0.02713615, -0.04287561],\n",
       "        [ 0.02048469, -0.03559362, -0.02164832,  0.03565266,\n",
       "         -0.02358456, -0.0225397 ,  0.04009699, -0.04201902,\n",
       "         -0.04296181, -0.04046725],\n",
       "        [ 0.02938116,  0.04437118, -0.01742508, -0.02996459,\n",
       "         -0.03004741,  0.01621162,  0.01926999,  0.0211147 ,\n",
       "         -0.01096091,  0.00503925]],\n",
       "\n",
       "       [[ 0.0470002 , -0.00935582,  0.04299415, -0.0082633 ,\n",
       "         -0.01664783, -0.004615  ,  0.00901164,  0.04972783,\n",
       "          0.0413538 ,  0.00335056],\n",
       "        [ 0.0470002 , -0.00935582,  0.04299415, -0.0082633 ,\n",
       "         -0.01664783, -0.004615  ,  0.00901164,  0.04972783,\n",
       "          0.0413538 ,  0.00335056],\n",
       "        [ 0.0470002 , -0.00935582,  0.04299415, -0.0082633 ,\n",
       "         -0.01664783, -0.004615  ,  0.00901164,  0.04972783,\n",
       "          0.0413538 ,  0.00335056],\n",
       "        [-0.00292972, -0.02524658,  0.04618912,  0.02975336,\n",
       "          0.04743408,  0.02562681, -0.00786463, -0.04531497,\n",
       "          0.03478997,  0.0241704 ],\n",
       "        [ 0.03111405, -0.01793978, -0.02621311,  0.02322394,\n",
       "         -0.04406983,  0.03307744, -0.01206652,  0.04066927,\n",
       "          0.04265973, -0.00466778],\n",
       "        [-0.02610229, -0.00512417, -0.02417075,  0.04870859,\n",
       "          0.01103256,  0.01968862,  0.01577911,  0.02890879,\n",
       "         -0.03867582, -0.00640329],\n",
       "        [ 0.03306163, -0.04519486,  0.02354546, -0.01846832,\n",
       "         -0.04786303,  0.005055  , -0.03775669, -0.00702266,\n",
       "         -0.03195721, -0.02127304],\n",
       "        [ 0.02468244,  0.04561529,  0.02966562, -0.04927748,\n",
       "          0.00919361, -0.01757131, -0.04454924,  0.01355106,\n",
       "         -0.04470311, -0.04420965]],\n",
       "\n",
       "       [[ 0.0470002 , -0.00935582,  0.04299415, -0.0082633 ,\n",
       "         -0.01664783, -0.004615  ,  0.00901164,  0.04972783,\n",
       "          0.0413538 ,  0.00335056],\n",
       "        [ 0.0470002 , -0.00935582,  0.04299415, -0.0082633 ,\n",
       "         -0.01664783, -0.004615  ,  0.00901164,  0.04972783,\n",
       "          0.0413538 ,  0.00335056],\n",
       "        [ 0.0470002 , -0.00935582,  0.04299415, -0.0082633 ,\n",
       "         -0.01664783, -0.004615  ,  0.00901164,  0.04972783,\n",
       "          0.0413538 ,  0.00335056],\n",
       "        [ 0.0470002 , -0.00935582,  0.04299415, -0.0082633 ,\n",
       "         -0.01664783, -0.004615  ,  0.00901164,  0.04972783,\n",
       "          0.0413538 ,  0.00335056],\n",
       "        [ 0.04365046,  0.01748009,  0.01894965,  0.03887499,\n",
       "         -0.01569115, -0.03074721,  0.03503939,  0.0163897 ,\n",
       "          0.00306314,  0.00286063],\n",
       "        [ 0.0445432 , -0.03668958, -0.00404496, -0.01427428,\n",
       "         -0.03744447, -0.04882447,  0.00571984,  0.03285055,\n",
       "         -0.02034129, -0.0325294 ],\n",
       "        [-0.04434186,  0.02067781,  0.03375072, -0.00435323,\n",
       "          0.01330799,  0.04235587, -0.02410313,  0.00333994,\n",
       "         -0.03504524,  0.00121637],\n",
       "        [ 0.02048469, -0.03559362, -0.02164832,  0.03565266,\n",
       "         -0.02358456, -0.0225397 ,  0.04009699, -0.04201902,\n",
       "         -0.04296181, -0.04046725]]], dtype=float32)"
      ]
     },
     "execution_count": 39,
     "metadata": {},
     "output_type": "execute_result"
    }
   ],
   "source": [
    "model.predict(embedded_docs)"
   ]
  },
  {
   "cell_type": "code",
   "execution_count": 40,
   "metadata": {},
   "outputs": [
    {
     "data": {
      "text/plain": [
       "array([   0,    0,    0,    0, 8764, 7824, 2025, 4846])"
      ]
     },
     "execution_count": 40,
     "metadata": {},
     "output_type": "execute_result"
    }
   ],
   "source": [
    "embedded_docs[0]"
   ]
  },
  {
   "cell_type": "code",
   "execution_count": 41,
   "metadata": {},
   "outputs": [
    {
     "name": "stdout",
     "output_type": "stream",
     "text": [
      "\u001b[1m1/1\u001b[0m \u001b[32m━━━━━━━━━━━━━━━━━━━━\u001b[0m\u001b[37m\u001b[0m \u001b[1m0s\u001b[0m 31ms/step\n"
     ]
    },
    {
     "data": {
      "text/plain": [
       "array([[ 0.0470002 , -0.00935582,  0.04299415, -0.0082633 , -0.01664783,\n",
       "        -0.004615  ,  0.00901164,  0.04972783,  0.0413538 ,  0.00335056],\n",
       "       [ 0.0470002 , -0.00935582,  0.04299415, -0.0082633 , -0.01664783,\n",
       "        -0.004615  ,  0.00901164,  0.04972783,  0.0413538 ,  0.00335056],\n",
       "       [ 0.0470002 , -0.00935582,  0.04299415, -0.0082633 , -0.01664783,\n",
       "        -0.004615  ,  0.00901164,  0.04972783,  0.0413538 ,  0.00335056],\n",
       "       [ 0.0470002 , -0.00935582,  0.04299415, -0.0082633 , -0.01664783,\n",
       "        -0.004615  ,  0.00901164,  0.04972783,  0.0413538 ,  0.00335056],\n",
       "       [ 0.03111405, -0.01793978, -0.02621311,  0.02322394, -0.04406983,\n",
       "         0.03307744, -0.01206652,  0.04066927,  0.04265973, -0.00466778],\n",
       "       [-0.03461339, -0.03203009,  0.00548317, -0.01339629, -0.0315574 ,\n",
       "         0.04609379, -0.02907416, -0.04225062, -0.03866761,  0.0295676 ],\n",
       "       [ 0.03306163, -0.04519486,  0.02354546, -0.01846832, -0.04786303,\n",
       "         0.005055  , -0.03775669, -0.00702266, -0.03195721, -0.02127304],\n",
       "       [-0.03344704, -0.02016467,  0.02294412,  0.0253267 , -0.01764899,\n",
       "        -0.02576756, -0.04422247,  0.03668405,  0.02797867,  0.01875201]],\n",
       "      dtype=float32)"
      ]
     },
     "execution_count": 41,
     "metadata": {},
     "output_type": "execute_result"
    }
   ],
   "source": [
    "model.predict(embedded_docs)[0]"
   ]
  },
  {
   "cell_type": "code",
   "execution_count": null,
   "metadata": {},
   "outputs": [],
   "source": []
  }
 ],
 "metadata": {
  "kernelspec": {
   "display_name": "venv",
   "language": "python",
   "name": "python3"
  },
  "language_info": {
   "codemirror_mode": {
    "name": "ipython",
    "version": 3
   },
   "file_extension": ".py",
   "mimetype": "text/x-python",
   "name": "python",
   "nbconvert_exporter": "python",
   "pygments_lexer": "ipython3",
   "version": "3.11.0"
  }
 },
 "nbformat": 4,
 "nbformat_minor": 2
}
